{
  "nbformat": 4,
  "nbformat_minor": 0,
  "metadata": {
    "colab": {
      "name": "Playground",
      "version": "0.3.2",
      "provenance": [],
      "collapsed_sections": [],
      "include_colab_link": true
    },
    "kernelspec": {
      "name": "python3",
      "display_name": "Python 3"
    }
  },
  "cells": [
    {
      "cell_type": "markdown",
      "metadata": {
        "id": "view-in-github",
        "colab_type": "text"
      },
      "source": [
        "<a href=\"https://colab.research.google.com/github/cyberscribe/UncleRobsPlayground/blob/master/Playground.ipynb\" target=\"_parent\"><img src=\"https://colab.research.google.com/assets/colab-badge.svg\" alt=\"Open In Colab\"/></a>"
      ]
    },
    {
      "cell_type": "markdown",
      "metadata": {
        "id": "FbPt01yuO1PW",
        "colab_type": "text"
      },
      "source": [
        "**CHALLENGE 1: POKE A DAKKA**\n",
        "\n",
        "First, we set up some code. This code will make Dakkas and give them a name, an action, and a catchphrase. When a Dakka gets poked, it shouts out its catchphrase. Runt the code below. It will not output anything."
      ]
    },
    {
      "cell_type": "code",
      "metadata": {
        "id": "mmlsWGswGkwL",
        "colab_type": "code",
        "colab": {}
      },
      "source": [
        "# Run this code first to set things up\n",
        "\n",
        "import random\n",
        "\n",
        "the_dakkas = []\n",
        "\n",
        "class Dakka:\n",
        "  def __init__(self, name, catchphrase, action):\n",
        "    self.name = name\n",
        "    self.catchphrase = catchphrase\n",
        "    self.action = action\n",
        "\n",
        "def get_random_catchphrase():\n",
        "    catchphrases = [\"Oi!\", \"You git!\", \"Waaaaaagh!\", \"'Ere we go!\", \"Dakka dakka dakka!\", \"'Old still!\", \"'Ere comes da boom!\", \"I like big shooty fings!\", \"Krush da Space Marines!\", \"For Mork and Gork!\", \"Stompin' time!\", \"Get 'em boyz!\", \"I like krumpin' stuff\"]\n",
        "    return random.choice(catchphrases)\n",
        "\n",
        "def get_random_action():\n",
        "    actions = [\"shoots a bolt gun\", \"revs a chainsword\", \"kicks a runt\", \"stomps\", \"drives a battlewagon\", \"runs into battle\", \"headbangs\", \"jumps up and down\", \"dabs\", \"flosses\", \"farts\"]\n",
        "    return random.choice(actions)\n",
        "\n",
        "def get_random_dakka():\n",
        "    return random.choice(the_dakkas)\n",
        "\n",
        "def make_dakkas():\n",
        "    global the_dakkas\n",
        "    the_dakkas = []\n",
        "    dakka_names = [\"Grandpa\",\"Granny\",\"Mommy\",\"Daddy\",\"Lil'\"]\n",
        "    for name in dakka_names:\n",
        "        full_name = name + \" Dakka\"\n",
        "        catchphrase = get_random_catchphrase()\n",
        "        action = get_random_action()\n",
        "        new_dakka = Dakka(full_name, catchphrase, action)\n",
        "        the_dakkas.append(new_dakka)\n",
        "    print(\"Dakkas ready, boss!\")\n",
        "\n",
        "def poke_a_dakka(da_dakka):\n",
        "    print(da_dakka.name + \" says: \" + da_dakka.catchphrase)\n",
        "\n",
        "def poke_a_random_dakka():\n",
        "    da_dakka = get_random_dakka()\n",
        "    poke_a_dakka(da_dakka)\n",
        "\n",
        "def poke_a_specific_dakka( name ):\n",
        "    da_dakka = find_a_specific_dakka( name )\n",
        "    if (da_dakka != False):\n",
        "        poke_a_dakka(da_dakka)\n",
        "    else:\n",
        "        print (\"Sorry, I could not find a dakka named \" + name)\n",
        "    \n",
        "def find_a_specific_dakka( name ):\n",
        "    for dakka in the_dakkas:\n",
        "        if (dakka.name == name):\n",
        "            return dakka\n",
        "    return False"
      ],
      "execution_count": 0,
      "outputs": []
    },
    {
      "cell_type": "markdown",
      "metadata": {
        "id": "nVFjEyKUOtXY",
        "colab_type": "text"
      },
      "source": [
        "Now we make the Dakkas... (run the code below)"
      ]
    },
    {
      "cell_type": "code",
      "metadata": {
        "id": "NzUOnckfOdEp",
        "colab_type": "code",
        "colab": {}
      },
      "source": [
        "make_dakkas()"
      ],
      "execution_count": 0,
      "outputs": []
    },
    {
      "cell_type": "markdown",
      "metadata": {
        "id": "AH__WMudWyqy",
        "colab_type": "text"
      },
      "source": [
        "... and then we poke a random Dakka to make it speak. (Run the code below.)"
      ]
    },
    {
      "cell_type": "code",
      "metadata": {
        "id": "i6CfVpUrWu9z",
        "colab_type": "code",
        "colab": {}
      },
      "source": [
        "poke_a_random_dakka()"
      ],
      "execution_count": 0,
      "outputs": []
    },
    {
      "cell_type": "markdown",
      "metadata": {
        "id": "pSS8Cb53PI0T",
        "colab_type": "text"
      },
      "source": [
        "**CHALLENGE 1.1**\n",
        "\n",
        "When a Dakka gets poked hard enough, it not only shouts out its catchphrase but does an action. Write a new function called `poke_a_random_dakka_hard`. When you call `make_dakkas()` and then `poke_a_random_dakka_hard()` it should print out the name of the Dakka, what it says, and what it does. For example, \"Grandpa Dakka says: Oi! and stomps\". The function has been started for you--just write the new print statement based on the one in `poke_a_random_dakka`. (Hint: use the print function, put quotes around text, and use the + sign to join up text and variables)"
      ]
    },
    {
      "cell_type": "code",
      "metadata": {
        "id": "1shi9Q28Okk9",
        "colab_type": "code",
        "colab": {}
      },
      "source": [
        "def poke_a_random_dakka_hard():\n",
        "    da_dakka = get_random_dakka()\n",
        "    # Add some code here to make the dakka say a catchphrase and do an action"
      ],
      "execution_count": 0,
      "outputs": []
    },
    {
      "cell_type": "code",
      "metadata": {
        "id": "wxIdWwW4RPlA",
        "colab_type": "code",
        "colab": {}
      },
      "source": [
        "# Now run this code to check your work\n",
        "poke_a_random_dakka_hard()"
      ],
      "execution_count": 0,
      "outputs": []
    },
    {
      "cell_type": "markdown",
      "metadata": {
        "id": "eSdaZn5CRlWM",
        "colab_type": "text"
      },
      "source": [
        "**CHALLENGE 1.2**\n",
        "\n",
        "Most of the Dakkas are happy to yell out random catchphrases, but Lil Dakka always says \"Dakka dakka dakka\" no matter what. Write a new function, `make_dakkas_better` that will make all the Dakkas, but also make sure that Lil Dakka's catchphrase is always \"Dakka dakka dakka\" (Hint: use if / else). Then run the code to check your work."
      ]
    },
    {
      "cell_type": "code",
      "metadata": {
        "id": "hhsOru_uRV7w",
        "colab_type": "code",
        "colab": {}
      },
      "source": [
        "def make_dakkas_better():\n",
        "    global the_dakkas\n",
        "    the_dakkas = []\n",
        "    dakka_names = [\"Grandpa\",\"Granny\",\"Mommy\",\"Daddy\",\"Lil\"]\n",
        "    for name in dakka_names:\n",
        "        full_name = name + \" Dakka\"\n",
        "        # Add some code here so that Lil Dakka always says \"Dakka dakka dakka\"\n",
        "        catchphrase = \"\"\n",
        "        action = get_random_action()\n",
        "        new_dakka = Dakka(full_name, catchphrase, action)\n",
        "        the_dakkas.append(new_dakka)\n",
        "    print(\"Dakkas even more ready, boss!\")"
      ],
      "execution_count": 0,
      "outputs": []
    },
    {
      "cell_type": "code",
      "metadata": {
        "id": "yID6RYTsSK49",
        "colab_type": "code",
        "colab": {}
      },
      "source": [
        "# Now run this code to check your changes\n",
        "make_dakkas_better()"
      ],
      "execution_count": 0,
      "outputs": []
    },
    {
      "cell_type": "code",
      "metadata": {
        "id": "ZaY2mHM9SNIv",
        "colab_type": "code",
        "colab": {}
      },
      "source": [
        "# Then run this code to poke Lil Dakka. He should say \"Dakka dakka dakka\"\n",
        "poke_a_specific_dakka(\"Lil Dakka\")"
      ],
      "execution_count": 0,
      "outputs": []
    },
    {
      "cell_type": "code",
      "metadata": {
        "id": "Q4uxFkDrXFOi",
        "colab_type": "code",
        "colab": {}
      },
      "source": [
        ""
      ],
      "execution_count": 0,
      "outputs": []
    }
  ]
}